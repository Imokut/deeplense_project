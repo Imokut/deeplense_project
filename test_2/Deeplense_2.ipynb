{
  "nbformat": 4,
  "nbformat_minor": 0,
  "metadata": {
    "colab": {
      "provenance": [],
      "authorship_tag": "ABX9TyPEDhHCsZAJEZ391xg2dJD3",
      "include_colab_link": true
    },
    "kernelspec": {
      "name": "python3",
      "display_name": "Python 3"
    },
    "language_info": {
      "name": "python"
    }
  },
  "cells": [
    {
      "cell_type": "markdown",
      "metadata": {
        "id": "view-in-github",
        "colab_type": "text"
      },
      "source": [
        "<a href=\"https://colab.research.google.com/github/Imokut/deeplense_project/blob/main/test_2/Deeplense_2.ipynb\" target=\"_parent\"><img src=\"https://colab.research.google.com/assets/colab-badge.svg\" alt=\"Open In Colab\"/></a>"
      ]
    },
    {
      "cell_type": "code",
      "execution_count": 1,
      "metadata": {
        "id": "6CqIqHpdgLUq"
      },
      "outputs": [],
      "source": [
        "# @title Import Libraries and Dependencies\n",
        "import zipfile\n",
        "import os\n",
        "import numpy as np\n",
        "import tensorflow as tf\n",
        "import matplotlib.pyplot as plt"
      ]
    },
    {
      "cell_type": "code",
      "source": [
        "!gdown 1K5cJbC9rfTuUIYVF-AL0NKXNvpXbH9-A"
      ],
      "metadata": {
        "colab": {
          "base_uri": "https://localhost:8080/"
        },
        "id": "rph18zKxr7R4",
        "outputId": "00373a3b-face-498d-8395-572d3bdfeba4"
      },
      "execution_count": 2,
      "outputs": [
        {
          "output_type": "stream",
          "name": "stdout",
          "text": [
            "Downloading...\n",
            "From (original): https://drive.google.com/uc?id=1K5cJbC9rfTuUIYVF-AL0NKXNvpXbH9-A\n",
            "From (redirected): https://drive.google.com/uc?id=1K5cJbC9rfTuUIYVF-AL0NKXNvpXbH9-A&confirm=t&uuid=d1cccf7e-33d4-46cb-b569-333017901a18\n",
            "To: /content/lens_finding.tgz\n",
            "100% 2.92G/2.92G [01:06<00:00, 43.8MB/s]\n"
          ]
        }
      ]
    },
    {
      "cell_type": "code",
      "source": [],
      "metadata": {
        "id": "dEdEIbqosWWq"
      },
      "execution_count": null,
      "outputs": []
    }
  ]
}