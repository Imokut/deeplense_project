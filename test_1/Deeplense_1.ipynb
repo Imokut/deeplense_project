{
  "nbformat": 4,
  "nbformat_minor": 0,
  "metadata": {
    "colab": {
      "provenance": [],
      "gpuType": "T4",
      "authorship_tag": "ABX9TyO5gasD+lamenW+VT95vwNH",
      "include_colab_link": true
    },
    "kernelspec": {
      "name": "python3",
      "display_name": "Python 3"
    },
    "language_info": {
      "name": "python"
    },
    "accelerator": "GPU"
  },
  "cells": [
    {
      "cell_type": "markdown",
      "metadata": {
        "id": "view-in-github",
        "colab_type": "text"
      },
      "source": [
        "<a href=\"https://colab.research.google.com/github/Imokut/deeplense_project/blob/main/test_1/Deeplense_1.ipynb\" target=\"_parent\"><img src=\"https://colab.research.google.com/assets/colab-badge.svg\" alt=\"Open In Colab\"/></a>"
      ]
    },
    {
      "cell_type": "code",
      "source": [
        "# @title Import Libraries and Dependencies\n",
        "import numpy as np\n",
        "import tensorflow as tf\n",
        "import matplotlib.pyplot as plt\n",
        "\n",
        "#!pip install gdwon"
      ],
      "metadata": {
        "id": "fAawYKgsM_d4",
        "cellView": "form"
      },
      "execution_count": 5,
      "outputs": []
    },
    {
      "cell_type": "code",
      "execution_count": 6,
      "metadata": {
        "id": "x99m1v6sz1-G",
        "colab": {
          "base_uri": "https://localhost:8080/"
        },
        "outputId": "140198b6-b01e-4c50-be8d-7edc36573d18",
        "cellView": "form"
      },
      "outputs": [
        {
          "output_type": "stream",
          "name": "stdout",
          "text": [
            "/usr/local/lib/python3.10/dist-packages/gdown/cli.py:138: FutureWarning: Option `--id` was deprecated in version 4.3.1 and will be removed in 5.0. You don't need to pass it anymore to use a file ID.\n",
            "  warnings.warn(\n",
            "Downloading...\n",
            "From (original): https://drive.google.com/uc?id=1ZEyNMEO43u3qhJAwJeBZxFBEYc_pVYZQ\n",
            "From (redirected): https://drive.google.com/uc?id=1ZEyNMEO43u3qhJAwJeBZxFBEYc_pVYZQ&confirm=t&uuid=a128c8a5-ba8d-48a3-9038-5893f79137e6\n",
            "To: /content/dataset.zip\n",
            "100% 1.13G/1.13G [00:11<00:00, 94.7MB/s]\n"
          ]
        }
      ],
      "source": [
        "# @title Download test dataset\n",
        "!gdown --id 1ZEyNMEO43u3qhJAwJeBZxFBEYc_pVYZQ"
      ]
    },
    {
      "cell_type": "code",
      "source": [],
      "metadata": {
        "id": "v_CxSDzBMzI0"
      },
      "execution_count": null,
      "outputs": []
    }
  ]
}